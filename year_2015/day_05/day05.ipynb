{
 "cells": [
  {
   "cell_type": "markdown",
   "metadata": {},
   "source": [
    "# Day 5: Doesn't He Have Intern-Elves For This?"
   ]
  },
  {
   "cell_type": "code",
   "execution_count": 1,
   "metadata": {},
   "outputs": [],
   "source": [
    "import re\n",
    "\n",
    "from tools import loader, parsers\n",
    "\n",
    "DATA = parsers.lines(loader.get(2015, 5))"
   ]
  },
  {
   "cell_type": "markdown",
   "metadata": {},
   "source": [
    "For part 1 we have 3 conditions:\n",
    "\n",
    "1. `(?=.*(.)\\1)` is a positive lookahead searching for any one character repeated twice.\n",
    "2. `(?=(.*[aeiou]){3})` is a positive lookahead searching for 3 occurrences of vowels, separated by anything.\n",
    "3. `(?!(.*(ab|cd|pq|xy)))` is a negative lookahead searching the two-letter combinations we want to exclude.\n",
    "\n",
    "We then cast the match objects to boolean so that we can sum them and get the total number of matches."
   ]
  },
  {
   "cell_type": "code",
   "execution_count": 2,
   "metadata": {},
   "outputs": [
    {
     "name": "stdout",
     "output_type": "stream",
     "text": [
      "236\n"
     ]
    }
   ],
   "source": [
    "condition = re.compile(r'(?=.*(.)\\1)(?=(.*[aeiou]){3})(?!(.*(ab|cd|pq|xy)))')\n",
    "print(sum(bool(re.match(condition, string)) for string in DATA))"
   ]
  },
  {
   "cell_type": "markdown",
   "metadata": {},
   "source": [
    "For part 2 we have 2 conditions:\n",
    "1. `(?=.*(..).*\\1)` looks for two characters (in a capture group), and another repetition of this capture group, separated by any number of characters.\n",
    "2. `(?=.*(.).\\2)` looks for a single character, followed by a single character, followed by the first character."
   ]
  },
  {
   "cell_type": "code",
   "execution_count": 3,
   "metadata": {},
   "outputs": [
    {
     "name": "stdout",
     "output_type": "stream",
     "text": [
      "51\n"
     ]
    }
   ],
   "source": [
    "condition = re.compile(r'(?=.*(..).*\\1)(?=.*(.).\\2)')\n",
    "print(sum(bool(re.match(condition, string)) for string in DATA))"
   ]
  }
 ],
 "metadata": {
  "kernelspec": {
   "display_name": "advent-of-code",
   "language": "python",
   "name": "python3"
  },
  "language_info": {
   "codemirror_mode": {
    "name": "ipython",
    "version": 3
   },
   "file_extension": ".py",
   "mimetype": "text/x-python",
   "name": "python",
   "nbconvert_exporter": "python",
   "pygments_lexer": "ipython3",
   "version": "3.11.5"
  }
 },
 "nbformat": 4,
 "nbformat_minor": 2
}

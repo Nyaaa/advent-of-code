{
 "cells": [
  {
   "cell_type": "markdown",
   "metadata": {},
   "source": [
    "# Day 16: Aunt Sue"
   ]
  },
  {
   "cell_type": "code",
   "execution_count": 1,
   "metadata": {},
   "outputs": [],
   "source": [
    "import re\n",
    "from collections import defaultdict\n",
    "\n",
    "from tools import loader, parsers\n",
    "\n",
    "DATA = parsers.lines(loader.get(2015, 16))\n",
    "SAMPLE = {'children': 3,\n",
    "          'cats': 7,\n",
    "          'samoyeds': 2,\n",
    "          'pomeranians': 3,\n",
    "          'akitas': 0,\n",
    "          'vizslas': 0,\n",
    "          'goldfish': 5,\n",
    "          'trees': 3,\n",
    "          'cars': 2,\n",
    "          'perfumes': 1\n",
    "          }"
   ]
  },
  {
   "cell_type": "markdown",
   "metadata": {},
   "source": [
    "We don't really need a validator function, but I think it's cleaner and more readable than a bunch of break statements in a loop. Here we use some cool features of `match ... case`: alternatives and a wildcard."
   ]
  },
  {
   "cell_type": "code",
   "execution_count": 2,
   "metadata": {},
   "outputs": [],
   "source": [
    "def does_match(name: str, amount: int, mode: int) -> bool:\n",
    "    match mode, name:\n",
    "        case 2, 'cats' | 'trees':\n",
    "            return amount >= SAMPLE[name]\n",
    "        case 2, 'pomeranians' | 'goldfish':\n",
    "            return amount <= SAMPLE[name]\n",
    "        case _:\n",
    "            return amount == SAMPLE[name]"
   ]
  },
  {
   "cell_type": "markdown",
   "metadata": {},
   "source": [
    "It's not often that we get to use `for ... else`, but today is the day! Also, did you know you can start enumerating from a value other than zero?"
   ]
  },
  {
   "cell_type": "code",
   "execution_count": 3,
   "metadata": {},
   "outputs": [
    {
     "name": "stdout",
     "output_type": "stream",
     "text": [
      "373\n",
      "260\n"
     ]
    }
   ],
   "source": [
    "def aunt_finder(data: list[str], part: int) -> int:\n",
    "    aunts = defaultdict(dict)\n",
    "    for i, aunt in enumerate(data, start=1):\n",
    "        for item in re.finditer(r'(\\w+): (\\d+)', aunt):\n",
    "            aunts[i][item.group(1)] = int(item.group(2))\n",
    "    for aunt, items in aunts.items():\n",
    "        for name, amount in items.items():\n",
    "            if not does_match(name, amount, part):\n",
    "                break\n",
    "        else:\n",
    "            return aunt\n",
    "    raise ValueError('Aunt not found!')\n",
    "\n",
    "\n",
    "print(aunt_finder(DATA, part=1))\n",
    "print(aunt_finder(DATA, part=2))"
   ]
  }
 ],
 "metadata": {
  "kernelspec": {
   "display_name": "advent-of-code",
   "language": "python",
   "name": "python3"
  },
  "language_info": {
   "codemirror_mode": {
    "name": "ipython",
    "version": 3
   },
   "file_extension": ".py",
   "mimetype": "text/x-python",
   "name": "python",
   "nbconvert_exporter": "python",
   "pygments_lexer": "ipython3",
   "version": "3.11.5"
  }
 },
 "nbformat": 4,
 "nbformat_minor": 2
}

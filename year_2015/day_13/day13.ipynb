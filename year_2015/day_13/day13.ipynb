{
 "cells": [
  {
   "cell_type": "markdown",
   "metadata": {},
   "source": [
    "# Day 13: Knights of the Dinner Table"
   ]
  },
  {
   "cell_type": "code",
   "execution_count": 1,
   "metadata": {},
   "outputs": [],
   "source": [
    "import re\n",
    "from collections import defaultdict\n",
    "from itertools import permutations\n",
    "\n",
    "from tools import loader, parsers\n",
    "\n",
    "DATA = parsers.lines(loader.get(2015, 13))"
   ]
  },
  {
   "cell_type": "markdown",
   "metadata": {},
   "source": [
    "First, we need to parse our input. Regex makes it easy, we just need to follow the structure of the centenses:\\\n",
    "`(\\w+).*(gain|lose)` captures the first word, skippes everything that follows until we reach the word 'gain' or 'lose'\\\n",
    "`(gain|lose) (\\d+)` captures any number after a space\\\n",
    "`.*to (\\w+)` captures the word after 'to '\n",
    "\n",
    "Alternatively, we can achieve the same in a more verbose way: `(\\w+) would (gain|lose) (\\d+) happiness units by sitting next to (\\w+).`\n",
    "\n",
    "The only minor annoyance is that we need to convert 'gain' and 'lose' into + and - to construct a proper integer."
   ]
  },
  {
   "cell_type": "code",
   "execution_count": 2,
   "metadata": {},
   "outputs": [],
   "source": [
    "guests = defaultdict(dict)\n",
    "for line in DATA:\n",
    "    info = re.findall(r'(\\w+).*(gain|lose) (\\d+).*to (\\w+)', line)[0]\n",
    "    value = '-' if info[1] == 'lose' else '+'\n",
    "    guests[info[0]][info[3]] = int(value + info[2])"
   ]
  },
  {
   "cell_type": "markdown",
   "metadata": {},
   "source": [
    "As for the actual solution, it's bruteforce time! (again?) The amount of permutations is only ~40k for part 1 and ~363k for part 2. Since we don't need to perform any expensive computations, it all completes in a second or two.\n",
    "\n",
    "We only need the right neighbour, whom we get by index (using modulo to wrap to index 0 when we reach the end). Once we have both neighbours, we simply look them up in our dictionary of guests. I use `.get()` with a default value of 0 for part 2 in order to avoid adding 'self': 0 to every guest in the guests dictionary.\n",
    "\n",
    "An alternative approach could be precumputing happiness change between all pairs of guests to avoid repeating calculations, or caching the calculated happiness change, but the execution time is fairly low as is, so we won't see a significant difference."
   ]
  },
  {
   "cell_type": "code",
   "execution_count": 3,
   "metadata": {},
   "outputs": [
    {
     "name": "stdout",
     "output_type": "stream",
     "text": [
      "733\n",
      "725\n"
     ]
    }
   ],
   "source": [
    "def optimize_seating(part2: bool) -> int:\n",
    "    if part2:\n",
    "        guests['self'] = dict.fromkeys(guests, 0)\n",
    "    best_happiness = 0\n",
    "    for combo in permutations(guests.keys(), len(guests)):\n",
    "        happiness = 0\n",
    "        for i, guest in enumerate(combo):\n",
    "            neighbour = combo[(i + 1) % len(combo)]\n",
    "            happiness += guests[guest].get(neighbour, 0)\n",
    "            happiness += guests[neighbour].get(guest, 0)\n",
    "        best_happiness = max(best_happiness, happiness)\n",
    "    return best_happiness\n",
    "\n",
    "\n",
    "print(optimize_seating(part2=False))  # 733\n",
    "print(optimize_seating(part2=True))  # 725"
   ]
  }
 ],
 "metadata": {
  "kernelspec": {
   "display_name": "advent-of-code",
   "language": "python",
   "name": "python3"
  },
  "language_info": {
   "codemirror_mode": {
    "name": "ipython",
    "version": 3
   },
   "file_extension": ".py",
   "mimetype": "text/x-python",
   "name": "python",
   "nbconvert_exporter": "python",
   "pygments_lexer": "ipython3",
   "version": "3.11.5"
  }
 },
 "nbformat": 4,
 "nbformat_minor": 2
}

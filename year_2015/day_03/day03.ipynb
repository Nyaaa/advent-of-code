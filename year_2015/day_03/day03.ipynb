{
 "cells": [
  {
   "cell_type": "markdown",
   "metadata": {},
   "source": [
    "# Day 3: Perfectly Spherical Houses in a Vacuum"
   ]
  },
  {
   "cell_type": "markdown",
   "metadata": {},
   "source": [
    "When dealing with movement in a 2D space, I like to use complex numbers, since they support mathematical operations out of the box, unlike tuples, and they make it very easy to translate turns into code. We will need to differentiate two moving characters for part 2, so I created a class for that, since we need a mutable data structure."
   ]
  },
  {
   "cell_type": "code",
   "execution_count": 1,
   "metadata": {},
   "outputs": [],
   "source": [
    "from collections import defaultdict\n",
    "from dataclasses import dataclass\n",
    "from itertools import cycle\n",
    "\n",
    "from tools import loader, parsers\n",
    "\n",
    "DIRS = {'^': -1, '>': 1j, 'v': 1, '<': -1j}\n",
    "DATA = parsers.string(loader.get(2015, 3))\n",
    "\n",
    "\n",
    "@dataclass\n",
    "class Actor:\n",
    "    position: complex = 0+0j"
   ]
  },
  {
   "cell_type": "markdown",
   "metadata": {},
   "source": [
    "We will store house locations in a dict and bump the visits count when we arrive there. For part 1 we will use only one actor, for part 2 we cycle between two, updating their current location separately. Moving is as simple as adding two complex numbers together. The puzzle asks for the number of houses that had visits. In Python we can use `sum()` on boolean values, which allows for a simple generator expression. Alternatively, we can arrive at the same answer by finding `len(houses)`, since all the houses in our dictionary have at least one visit."
   ]
  },
  {
   "cell_type": "code",
   "execution_count": 2,
   "metadata": {},
   "outputs": [
    {
     "name": "stdout",
     "output_type": "stream",
     "text": [
      "2081\n",
      "2341\n"
     ]
    }
   ],
   "source": [
    "def start(data: str, part_2: bool) -> int:\n",
    "    houses = defaultdict(int)\n",
    "    santa, robot = Actor(), Actor()\n",
    "    houses[santa.position] += 2\n",
    "    actors = cycle([santa, robot])\n",
    "    for i in data:\n",
    "        unit = next(actors) if part_2 else santa\n",
    "        unit.position += DIRS[i]\n",
    "        houses[unit.position] += 1\n",
    "    return sum(i >= 1 for i in houses.values())\n",
    "\n",
    "\n",
    "print(start(DATA, part_2=False))\n",
    "print(start(DATA, part_2=True))"
   ]
  }
 ],
 "metadata": {
  "kernelspec": {
   "display_name": "advent-of-code",
   "language": "python",
   "name": "python3"
  },
  "language_info": {
   "codemirror_mode": {
    "name": "ipython",
    "version": 3
   },
   "file_extension": ".py",
   "mimetype": "text/x-python",
   "name": "python",
   "nbconvert_exporter": "python",
   "pygments_lexer": "ipython3",
   "version": "3.11.5"
  }
 },
 "nbformat": 4,
 "nbformat_minor": 2
}

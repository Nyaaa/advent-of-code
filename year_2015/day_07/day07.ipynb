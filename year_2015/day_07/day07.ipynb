{
 "cells": [
  {
   "cell_type": "markdown",
   "metadata": {},
   "source": [
    "# Day 7: Some Assembly Required"
   ]
  },
  {
   "cell_type": "markdown",
   "metadata": {},
   "source": [
    "This one is made easy by the `operator` library, we just build a dictionary or bitwise operators, then iterate over the input, attempting to complete the operation at every iteration, until we exhaust the input list. The operation can only be completed if we have all required signals figured out, so if we can't gel the values, we kick this operation to the end of the queue. I suppose this puzzle could also be solved using recursion, but I find queue-based solutions easier to write and debug."
   ]
  },
  {
   "cell_type": "code",
   "execution_count": 1,
   "metadata": {},
   "outputs": [
    {
     "name": "stdout",
     "output_type": "stream",
     "text": [
      "956\n"
     ]
    }
   ],
   "source": [
    "import operator\n",
    "import re\n",
    "from collections import deque\n",
    "\n",
    "from tools import loader, parsers\n",
    "\n",
    "\n",
    "def circuit(part2: int) -> int:\n",
    "    signals = {}\n",
    "    wires = deque(parsers.lines(loader.get(2015, 7)))\n",
    "    ops = {'AND': operator.and_,\n",
    "           'OR': operator.or_,\n",
    "           'LSHIFT': operator.lshift,\n",
    "           'RSHIFT': operator.rshift,\n",
    "           'NOT': operator.invert}\n",
    "\n",
    "    while wires:\n",
    "        line = wires.popleft()\n",
    "        _input, output = line.split(' -> ')\n",
    "        try:\n",
    "            vals_int = [int(v) if not v.isalpha() else signals[v]\n",
    "                        for v in re.findall(r'\\d+|[a-z]+', _input)]\n",
    "        except KeyError:\n",
    "            wires.append(line)\n",
    "            continue\n",
    "\n",
    "        if op := re.findall(r'[A-Z]+', line):\n",
    "            signals[output] = ops[op[0]](*vals_int)\n",
    "        else:\n",
    "            signals[output] = vals_int[0]\n",
    "            if output == 'b' and part2:\n",
    "                signals[output] = part2\n",
    "\n",
    "    return signals['a']\n",
    "\n",
    "\n",
    "part1 = circuit(0)\n",
    "print(part1)"
   ]
  },
  {
   "cell_type": "markdown",
   "metadata": {},
   "source": [
    "Part 2 is basically the same thing, its starting value is the output of part 1, that's it. We could move parsing away from the main loop to cut down on redundant operations, but it works fast enough as is, with no optimizations necessary."
   ]
  },
  {
   "cell_type": "code",
   "execution_count": 2,
   "metadata": {},
   "outputs": [
    {
     "name": "stdout",
     "output_type": "stream",
     "text": [
      "40149\n"
     ]
    }
   ],
   "source": [
    "print(circuit(part1))"
   ]
  }
 ],
 "metadata": {
  "kernelspec": {
   "display_name": "advent-of-code",
   "language": "python",
   "name": "python3"
  },
  "language_info": {
   "codemirror_mode": {
    "name": "ipython",
    "version": 3
   },
   "file_extension": ".py",
   "mimetype": "text/x-python",
   "name": "python",
   "nbconvert_exporter": "python",
   "pygments_lexer": "ipython3",
   "version": "3.11.5"
  }
 },
 "nbformat": 4,
 "nbformat_minor": 2
}

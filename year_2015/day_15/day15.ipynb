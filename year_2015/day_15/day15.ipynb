{
 "cells": [
  {
   "cell_type": "markdown",
   "metadata": {},
   "source": [
    "# Day 15: Science for Hungry People"
   ]
  },
  {
   "cell_type": "code",
   "execution_count": 1,
   "metadata": {},
   "outputs": [
    {
     "name": "stdout",
     "output_type": "stream",
     "text": [
      "222870\n",
      "117936\n"
     ]
    }
   ],
   "source": [
    "import re\n",
    "from collections import Counter\n",
    "from itertools import combinations_with_replacement\n",
    "from math import prod\n",
    "\n",
    "from tools import loader, parsers\n",
    "\n",
    "DATA = parsers.lines(loader.get(2015, 15))\n",
    "\n",
    "\n",
    "ingredients = {tuple(map(int, re.findall(r'-?\\d+', line))) for line in DATA}\n",
    "options = combinations_with_replacement(ingredients, 100)\n",
    "part1 = 0\n",
    "part2 = 0\n",
    "for recipe in options:\n",
    "    items = Counter(recipe)\n",
    "    score = prod(max(0, sum(item[index] * items[item] for item in items)) for index in range(4))\n",
    "    part1 = max(score, part1)\n",
    "    if sum(item[-1] * items[item] for item in items) == 500:\n",
    "        part2 = max(score, part2)\n",
    "print(part1)\n",
    "print(part2)"
   ]
  },
  {
   "cell_type": "markdown",
   "metadata": {},
   "source": [
    "This is fairly straightforward bruteforce, but the score calculation is kinda easier to write than it is to read. Hate it when it happens))\n",
    "\n",
    "We can unwrap it like this:"
   ]
  },
  {
   "cell_type": "code",
   "execution_count": 2,
   "metadata": {},
   "outputs": [
    {
     "name": "stdout",
     "output_type": "stream",
     "text": [
      "True\n"
     ]
    }
   ],
   "source": [
    "test_recipe = {(2, 3, -2, -1, 3): 56, (-1, -2, 6, 3, 8): 44}\n",
    "\n",
    "score = 1\n",
    "for index in range(4):\n",
    "    score *= max(0, sum(item[index] * test_recipe[item] for item in test_recipe))\n",
    "\n",
    "print(score == 62842880)"
   ]
  },
  {
   "cell_type": "markdown",
   "metadata": {},
   "source": [
    "Or even more:"
   ]
  },
  {
   "cell_type": "code",
   "execution_count": 3,
   "metadata": {},
   "outputs": [
    {
     "name": "stdout",
     "output_type": "stream",
     "text": [
      "True\n"
     ]
    }
   ],
   "source": [
    "values = [0, 0, 0, 0]\n",
    "for index in range(4):\n",
    "    for item, value in test_recipe.items():\n",
    "        values[index] += item[index] * value\n",
    "values = [max(0, i) for i in values]\n",
    "score = prod(values)\n",
    "\n",
    "print(score == 62842880)"
   ]
  },
  {
   "cell_type": "markdown",
   "metadata": {},
   "source": [
    "Now that I've solved it, it occurred to me that instead of all this indexing, we could first multiply all values by the ingredient's amount, then transpose the tuples using `more_itertools.transpose()`, sum the transposed tuples and get the product. Can't think of any non-bruteforce solution, though."
   ]
  }
 ],
 "metadata": {
  "kernelspec": {
   "display_name": "advent-of-code",
   "language": "python",
   "name": "python3"
  },
  "language_info": {
   "codemirror_mode": {
    "name": "ipython",
    "version": 3
   },
   "file_extension": ".py",
   "mimetype": "text/x-python",
   "name": "python",
   "nbconvert_exporter": "python",
   "pygments_lexer": "ipython3",
   "version": "3.12.3"
  }
 },
 "nbformat": 4,
 "nbformat_minor": 2
}

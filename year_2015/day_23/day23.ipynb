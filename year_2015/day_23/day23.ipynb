{
 "cells": [
  {
   "cell_type": "markdown",
   "metadata": {},
   "source": [
    "# Day 23: Opening the Turing Lock"
   ]
  },
  {
   "cell_type": "markdown",
   "metadata": {},
   "source": [
    "Since I'm doing AoC backwards, I've seen many similar puzzles already, and this one is probably the most basic of them. No gotchas, no reverse engineering assembly, just simple straightforward simulation. Match case fits the task nicely, allowing for shorter, more readable code."
   ]
  },
  {
   "cell_type": "code",
   "execution_count": 1,
   "metadata": {},
   "outputs": [
    {
     "name": "stdout",
     "output_type": "stream",
     "text": [
      "307\n",
      "160\n"
     ]
    }
   ],
   "source": [
    "from tools import loader, parsers\n",
    "\n",
    "\n",
    "def execute(reg_a: int) -> int:\n",
    "    program = parsers.lines(loader.get(2015, 23))\n",
    "    register = {'a': reg_a, 'b': 0}\n",
    "    step = 0\n",
    "    while 0 <= step < len(program):\n",
    "        offset = 1\n",
    "        match program[step].split():\n",
    "            case 'hlf', x:\n",
    "                register[x] //= 2\n",
    "            case 'tpl', x:\n",
    "                register[x] *= 3\n",
    "            case 'inc', x:\n",
    "                register[x] += 1\n",
    "            case 'jmp', x:\n",
    "                offset = int(x)\n",
    "            case 'jie', x, y if register[x[0]] % 2 == 0:\n",
    "                offset = int(y)\n",
    "            case 'jio', x, y if register[x[0]] == 1:\n",
    "                offset = int(y)\n",
    "        step += offset\n",
    "    return register['b']\n",
    "\n",
    "\n",
    "print(execute(reg_a=0))\n",
    "print(execute(reg_a=1))"
   ]
  }
 ],
 "metadata": {
  "kernelspec": {
   "display_name": "advent-of-code",
   "language": "python",
   "name": "python3"
  },
  "language_info": {
   "codemirror_mode": {
    "name": "ipython",
    "version": 3
   },
   "file_extension": ".py",
   "mimetype": "text/x-python",
   "name": "python",
   "nbconvert_exporter": "python",
   "pygments_lexer": "ipython3",
   "version": "3.11.5"
  }
 },
 "nbformat": 4,
 "nbformat_minor": 2
}

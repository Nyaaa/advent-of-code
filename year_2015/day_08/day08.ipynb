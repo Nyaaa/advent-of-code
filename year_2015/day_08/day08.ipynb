{
 "cells": [
  {
   "cell_type": "markdown",
   "metadata": {},
   "source": [
    "# Day 8: Matchsticks"
   ]
  },
  {
   "cell_type": "code",
   "execution_count": 1,
   "metadata": {},
   "outputs": [],
   "source": [
    "from ast import literal_eval\n",
    "\n",
    "from tools import loader, parsers\n",
    "\n",
    "DATA = parsers.lines(loader.get(2015, 8))"
   ]
  },
  {
   "cell_type": "markdown",
   "metadata": {},
   "source": [
    "Yes, yes, eval is unsafe. There's ast.literal_eval which is considered a safer version, since it doesn't execute the code. Nice!"
   ]
  },
  {
   "cell_type": "code",
   "execution_count": 2,
   "metadata": {},
   "outputs": [
    {
     "name": "stdout",
     "output_type": "stream",
     "text": [
      "1371\n"
     ]
    }
   ],
   "source": [
    "print(sum(len(line) - len(literal_eval(line)) for line in DATA))"
   ]
  },
  {
   "cell_type": "markdown",
   "metadata": {},
   "source": [
    "We can also use `decode('unicode-escape')` instead, it's a bit longer:"
   ]
  },
  {
   "cell_type": "code",
   "execution_count": 3,
   "metadata": {},
   "outputs": [
    {
     "name": "stdout",
     "output_type": "stream",
     "text": [
      "1371\n"
     ]
    }
   ],
   "source": [
    "print(sum(len(line) - len(line.encode('utf-8').decode('unicode-escape')[1:-1]) for line in DATA))"
   ]
  },
  {
   "cell_type": "markdown",
   "metadata": {},
   "source": [
    "For part 2 there's a cheaty solution: we can count the characters we need to escape (backslashes and double quotes) and add 2 (extra quotes to wrap the line with) to get the length difference."
   ]
  },
  {
   "cell_type": "code",
   "execution_count": 4,
   "metadata": {},
   "outputs": [
    {
     "name": "stdout",
     "output_type": "stream",
     "text": [
      "2117\n"
     ]
    }
   ],
   "source": [
    "print(sum(line.count('\\\\') + line.count('\"') + 2 for line in DATA))"
   ]
  },
  {
   "cell_type": "markdown",
   "metadata": {},
   "source": [
    "Or we can do the actual replacements and count lengths:"
   ]
  },
  {
   "cell_type": "code",
   "execution_count": 5,
   "metadata": {},
   "outputs": [
    {
     "name": "stdout",
     "output_type": "stream",
     "text": [
      "2117\n"
     ]
    }
   ],
   "source": [
    "print(sum(len(line.replace('\\\\', '\\\\\\\\').replace('\"', '\\\\\"') + '\"\"') - len(line) for line in DATA))"
   ]
  }
 ],
 "metadata": {
  "kernelspec": {
   "display_name": "advent-of-code",
   "language": "python",
   "name": "python3"
  },
  "language_info": {
   "codemirror_mode": {
    "name": "ipython",
    "version": 3
   },
   "file_extension": ".py",
   "mimetype": "text/x-python",
   "name": "python",
   "nbconvert_exporter": "python",
   "pygments_lexer": "ipython3",
   "version": "3.11.5"
  }
 },
 "nbformat": 4,
 "nbformat_minor": 2
}

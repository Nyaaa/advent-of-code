{
 "cells": [
  {
   "cell_type": "markdown",
   "metadata": {},
   "source": [
    "# Day 17: No Such Thing as Too Much"
   ]
  },
  {
   "cell_type": "markdown",
   "metadata": {},
   "source": [
    "Is there anything itertools can't do? =) Here we do all of the calculations in place: `sum(j)` gets the total volume of the selected containers, `sum(j) == 150` determines whether the volume is correct, giving us boolean values, which we then sum to get the amount of valid combinations. We could sum the sums too for a nifty one-liner, but for part 2 we store them in a dict in order to separate them by the amount of containers used.\n",
    "\n",
    "Getting the answers then is as simple as adding all values in the dict for part 1 and getting the first non-empty value from the same dict."
   ]
  },
  {
   "cell_type": "code",
   "execution_count": 1,
   "metadata": {},
   "outputs": [
    {
     "name": "stdout",
     "output_type": "stream",
     "text": [
      "654\n",
      "57\n"
     ]
    }
   ],
   "source": [
    "from itertools import combinations\n",
    "\n",
    "from tools import loader, parsers\n",
    "\n",
    "DATA = parsers.lines(loader.get(2015, 17))\n",
    "\n",
    "\n",
    "options = list(map(int, DATA))\n",
    "combos = {}\n",
    "for i in range(1, len(options) + 1):\n",
    "    combos[i] = sum(sum(j) == 150 for j in (combinations(options, i)))\n",
    "print(sum(combos.values()))\n",
    "print(next(a for a in combos.values() if a))"
   ]
  }
 ],
 "metadata": {
  "kernelspec": {
   "display_name": "advent-of-code",
   "language": "python",
   "name": "python3"
  },
  "language_info": {
   "codemirror_mode": {
    "name": "ipython",
    "version": 3
   },
   "file_extension": ".py",
   "mimetype": "text/x-python",
   "name": "python",
   "nbconvert_exporter": "python",
   "pygments_lexer": "ipython3",
   "version": "3.11.5"
  }
 },
 "nbformat": 4,
 "nbformat_minor": 2
}

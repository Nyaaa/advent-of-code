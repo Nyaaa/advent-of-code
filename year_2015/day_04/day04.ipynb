{
 "cells": [
  {
   "cell_type": "markdown",
   "metadata": {},
   "source": [
    "# Day 4: The Ideal Stocking Stuffer"
   ]
  },
  {
   "cell_type": "markdown",
   "metadata": {},
   "source": [
    "It's not typical that bruteforce is a viable solution to an AoC puzzle, but this time it is. Not particularly fast, though. Anyway, I don't have any better ideas for this one."
   ]
  },
  {
   "cell_type": "code",
   "execution_count": 1,
   "metadata": {},
   "outputs": [],
   "source": [
    "import hashlib\n",
    "from itertools import count\n",
    "\n",
    "from tools import loader, parsers\n",
    "\n",
    "\n",
    "def start(key: str, part2: bool) -> int:\n",
    "    for i in count(1):\n",
    "        h = hashlib.md5(f'{key}{i}'.encode()).hexdigest()\n",
    "        if h.startswith('00000' if not part2 else '000000'):\n",
    "            return i\n",
    "    raise ValueError('Solution not found.')"
   ]
  },
  {
   "cell_type": "code",
   "execution_count": 2,
   "metadata": {},
   "outputs": [
    {
     "name": "stdout",
     "output_type": "stream",
     "text": [
      "346386\n"
     ]
    }
   ],
   "source": [
    "print(start(parsers.string(loader.get(2015, 4)), part2=False))"
   ]
  },
  {
   "cell_type": "code",
   "execution_count": 3,
   "metadata": {},
   "outputs": [
    {
     "name": "stdout",
     "output_type": "stream",
     "text": [
      "9958218\n"
     ]
    }
   ],
   "source": [
    "print(start(parsers.string(loader.get(2015, 4)), part2=True))"
   ]
  }
 ],
 "metadata": {
  "kernelspec": {
   "display_name": "Python 3 (ipykernel)",
   "language": "python",
   "name": "python3"
  },
  "language_info": {
   "codemirror_mode": {
    "name": "ipython",
    "version": 3
   },
   "file_extension": ".py",
   "mimetype": "text/x-python",
   "name": "python",
   "nbconvert_exporter": "python",
   "pygments_lexer": "ipython3",
   "version": "3.11.5"
  }
 },
 "nbformat": 4,
 "nbformat_minor": 2
}

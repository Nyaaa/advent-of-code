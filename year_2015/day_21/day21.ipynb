{
 "cells": [
  {
   "cell_type": "markdown",
   "metadata": {},
   "source": [
    "# Day 21: RPG Simulator 20XX"
   ]
  },
  {
   "cell_type": "code",
   "execution_count": 1,
   "metadata": {},
   "outputs": [],
   "source": [
    "import re\n",
    "from dataclasses import dataclass\n",
    "from itertools import combinations\n",
    "from math import ceil\n",
    "\n",
    "from tools import loader, parsers\n",
    "\n",
    "DATA = parsers.string(loader.get(2015, 21))\n",
    "\n",
    "@dataclass\n",
    "class Unit:\n",
    "    hp: int = 100\n",
    "    dmg: int = 0\n",
    "    ac: int = 0"
   ]
  },
  {
   "cell_type": "markdown",
   "metadata": {},
   "source": [
    "Unexpectedly easy for a day 2X puzzle. The amount of items is small enough, so we can simply calculate all possible combinations. I decided againt parsing this time, since it's faster to just hardcode the data, and all values are constant anyway."
   ]
  },
  {
   "cell_type": "code",
   "execution_count": 2,
   "metadata": {},
   "outputs": [],
   "source": [
    "WEAPONS = [(8, 4, 0), (10, 5, 0), (25, 6, 0), (40, 7, 0), (74, 8, 0)]\n",
    "ARMOUR = [(13, 0, 1), (31, 0, 2), (53, 0, 3), (75, 0, 4), (102, 0, 5), (0, 0, 0)]\n",
    "RINGS = [(25, 1, 0), (50, 2, 0), (100, 3, 0),\n",
    "         (20, 0, 1), (40, 0, 2), (80, 0, 3), (0, 0, 0), (0, 0, 0)]\n",
    "\n",
    "items = []\n",
    "for wep in WEAPONS:\n",
    "    for arm in ARMOUR:\n",
    "        for ring1, ring2 in combinations(RINGS, 2):\n",
    "            cost = wep[0] + arm[0] + ring1[0] + ring2[0]\n",
    "            damage = wep[1] + arm[1] + ring1[1] + ring2[1]\n",
    "            armor = wep[2] + arm[2] + ring1[2] + ring2[2]\n",
    "            items.append((cost, damage, armor))"
   ]
  },
  {
   "cell_type": "markdown",
   "metadata": {},
   "source": [
    "Originally I had a loop here that was simulating the battle round by round. Howether, since attack and defense values are constant, we can get rid of the loop and calculate how many turns each unit will last for."
   ]
  },
  {
   "cell_type": "code",
   "execution_count": 3,
   "metadata": {},
   "outputs": [],
   "source": [
    "def fight(player: Unit, boss: Unit) -> Unit:\n",
    "    player_outcome = ceil(player.hp / max(1, boss.dmg - player.ac))\n",
    "    boss_outcome = ceil(boss.hp / max(1, player.dmg - boss.ac))\n",
    "    return player if player_outcome >= boss_outcome else boss"
   ]
  },
  {
   "cell_type": "markdown",
   "metadata": {},
   "source": [
    "The rest is just calculating the outcome of each battle. Since the main metric is cost of items, we can just sort our items by total price. "
   ]
  },
  {
   "cell_type": "code",
   "execution_count": 4,
   "metadata": {},
   "outputs": [
    {
     "name": "stdout",
     "output_type": "stream",
     "text": [
      "78\n",
      "148\n"
     ]
    }
   ],
   "source": [
    "part1 = part2 = 0\n",
    "\n",
    "for cost, dmg, ac in sorted(items):\n",
    "    player = Unit(hp=100, dmg=dmg, ac=ac)\n",
    "    boss = Unit(*map(int, re.findall(r'\\d+', DATA)))\n",
    "    winner = fight(player, boss)\n",
    "    if winner == player and not part1:\n",
    "        part1 = cost\n",
    "    if winner == boss and cost > part2:\n",
    "        part2 = cost\n",
    "print(part1)\n",
    "print(part2)"
   ]
  }
 ],
 "metadata": {
  "kernelspec": {
   "display_name": "advent-of-code",
   "language": "python",
   "name": "python3"
  },
  "language_info": {
   "codemirror_mode": {
    "name": "ipython",
    "version": 3
   },
   "file_extension": ".py",
   "mimetype": "text/x-python",
   "name": "python",
   "nbconvert_exporter": "python",
   "pygments_lexer": "ipython3",
   "version": "3.11.5"
  }
 },
 "nbformat": 4,
 "nbformat_minor": 2
}

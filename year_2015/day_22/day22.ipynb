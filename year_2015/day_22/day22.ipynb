{
 "cells": [
  {
   "cell_type": "markdown",
   "metadata": {},
   "source": [
    "# Day 22: Wizard Simulator 20XX"
   ]
  },
  {
   "cell_type": "code",
   "execution_count": 1,
   "metadata": {},
   "outputs": [],
   "source": [
    "from __future__ import annotations\n",
    "\n",
    "import heapq\n",
    "import re\n",
    "from copy import deepcopy\n",
    "from dataclasses import dataclass, field\n",
    "\n",
    "from tools import loader, parsers\n",
    "\n",
    "BOSS_HP, BOSS_ATTACK = map(int, re.findall(r'\\d+', parsers.string(loader.get(2015, 22))))"
   ]
  },
  {
   "cell_type": "markdown",
   "metadata": {},
   "source": [
    "Oh my. This one took me 2 days and 3 complete rewrites to get it right. We need to manage a lot of stuff: player state, boss state, active spells, mana spent, spell timers... To simplify things, I decided to make a State class to store all that. This allows us to make a custom lt method for determining priority (we want the states with the least mana spent)."
   ]
  },
  {
   "cell_type": "code",
   "execution_count": 2,
   "metadata": {},
   "outputs": [],
   "source": [
    "@dataclass\n",
    "class State:\n",
    "    mana_used: int = 0\n",
    "    boss_hp: int = BOSS_HP\n",
    "    boss_attack: int = BOSS_ATTACK\n",
    "    player_hp: int = 50\n",
    "    player_armour: int = 0\n",
    "    player_mana: int = 500\n",
    "    boss_turn: bool = False\n",
    "    active_spells: list[Spell] = field(default_factory=list)\n",
    "\n",
    "    def __lt__(self, other: State) -> bool:\n",
    "        return self.mana_used < other.mana_used"
   ]
  },
  {
   "cell_type": "markdown",
   "metadata": {},
   "source": [
    "Next, we need to handle spells. We have 2 types of spells: ones that activate immediately and ones that last for some time. We are going to call the `apply` method to cast all spells, and then each turn wi will call `proc` to trigger lasting spells. This is probably not a very good implementation, I'd prefer this class to be immutable, but then we'd need to come up with a different way to keep track of spell timers."
   ]
  },
  {
   "cell_type": "code",
   "execution_count": 3,
   "metadata": {},
   "outputs": [],
   "source": [
    "@dataclass\n",
    "class Spell:\n",
    "    name: str\n",
    "    cost: int\n",
    "    damage: int = 0\n",
    "    heal: int = 0\n",
    "    armour: int = 0\n",
    "    mana: int = 0\n",
    "    timer: int = 0\n",
    "\n",
    "    def __repr__(self) -> str:\n",
    "        return self.name\n",
    "\n",
    "    def __eq__(self, other: Spell) -> bool:\n",
    "        return self.name == other.name\n",
    "\n",
    "    def cast(self, state: State) -> bool:\n",
    "        if (self.timer and self in state.active_spells) or state.player_mana < self.cost:\n",
    "            return False\n",
    "        state.player_mana -= self.cost\n",
    "        state.mana_used += self.cost\n",
    "        state.player_hp += self.heal\n",
    "        if self.timer > 0:\n",
    "            state.active_spells.append(deepcopy(self))\n",
    "        else:\n",
    "            self.proc(state)\n",
    "        return True\n",
    "\n",
    "    def proc(self, state: State) -> None:\n",
    "        self.timer -= 1\n",
    "        state.boss_hp -= self.damage\n",
    "        state.player_mana += self.mana\n",
    "        if self.name == 'Shield':\n",
    "            state.player_armour = self.armour\n",
    "            if self.timer == 0:\n",
    "                state.player_armour = 0\n",
    "        state.active_spells = [i for i in state.active_spells if i.timer > 0]\n",
    "\n",
    "\n",
    "SPELLS = [\n",
    "    Spell(name='Magic Missile', cost=53, damage=4),\n",
    "    Spell(name='Drain', cost=73, damage=2, heal=2),\n",
    "    Spell(name='Shield', cost=113, armour=7, timer=6),\n",
    "    Spell(name='Poison', cost=173, damage=3, timer=6),\n",
    "    Spell(name='Recharge', cost=229, mana=101, timer=5),\n",
    "]"
   ]
  },
  {
   "cell_type": "markdown",
   "metadata": {},
   "source": [
    "In the main loop we use a heap to store our game states, which allows us to prioritize the states with the lowest mana usage. This means that as soon as we get a result, it's going to be the best one, so we don't have to explore other branches. Effects do not proc immediately after casting, so the order of operations is important. \n",
    "\n",
    "Splitting turns doubles heap operations and slows down the program significantly, but it's the only way I got it to work while maintaining all checks and operations in the correct order, as well as keeping the code readable."
   ]
  },
  {
   "cell_type": "code",
   "execution_count": 4,
   "metadata": {},
   "outputs": [
    {
     "name": "stdout",
     "output_type": "stream",
     "text": [
      "900\n",
      "1216\n"
     ]
    }
   ],
   "source": [
    "def battle(part2: bool) -> int:\n",
    "    queue = [State()]\n",
    "    while queue:\n",
    "        state = heapq.heappop(queue)\n",
    "        if state.player_hp <= 0:\n",
    "            continue\n",
    "        if part2 and not state.boss_turn:\n",
    "            state.player_hp -= 1\n",
    "\n",
    "        for spell in state.active_spells:\n",
    "            spell.proc(state)\n",
    "        if state.boss_hp <= 0:\n",
    "            return state.mana_used\n",
    "\n",
    "        if state.boss_turn:\n",
    "            state.player_hp -= max(1, state.boss_attack - state.player_armour)\n",
    "            state.boss_turn = False\n",
    "            heapq.heappush(queue, state)\n",
    "            continue\n",
    "\n",
    "        for spell in SPELLS:\n",
    "            new_state = deepcopy(state)\n",
    "            new_state.boss_turn = True\n",
    "            if spell.cast(new_state):\n",
    "                heapq.heappush(queue, new_state)\n",
    "    raise ValueError('Solution not found')\n",
    "\n",
    "\n",
    "print(battle(part2=False))\n",
    "print(battle(part2=True))"
   ]
  }
 ],
 "metadata": {
  "kernelspec": {
   "display_name": "advent-of-code",
   "language": "python",
   "name": "python3"
  },
  "language_info": {
   "codemirror_mode": {
    "name": "ipython",
    "version": 3
   },
   "file_extension": ".py",
   "mimetype": "text/x-python",
   "name": "python",
   "nbconvert_exporter": "python",
   "pygments_lexer": "ipython3",
   "version": "3.11.5"
  }
 },
 "nbformat": 4,
 "nbformat_minor": 2
}

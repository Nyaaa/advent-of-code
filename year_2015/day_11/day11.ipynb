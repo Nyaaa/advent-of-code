{
 "cells": [
  {
   "cell_type": "markdown",
   "metadata": {},
   "source": [
    "# Day 11: Corporate Policy"
   ]
  },
  {
   "cell_type": "code",
   "execution_count": 1,
   "metadata": {},
   "outputs": [],
   "source": [
    "import re\n",
    "from collections.abc import Generator\n",
    "from string import ascii_lowercase\n",
    "\n",
    "from more_itertools import windowed\n",
    "\n",
    "from tools import loader, parsers"
   ]
  },
  {
   "cell_type": "markdown",
   "metadata": {},
   "source": [
    "There probably is a better, more efficient way of solving this puzzle, but this was the first thing that came to my mind, and it works. Here we have a generator that just makes new passwords, flipping letters binary-style. We first take the last letter of the password (range with negative step). To flip the letter we use the fact that they are all latin lowercase ASCII characters, with codes ranging from 97 to 122. So we take the current letter's code, add 1, and use modulo to jump back to 'a' once we reach 'z'. If we get to letter 'a', the loop continues to the next letter of the password, going backwards, otherwise we break the loop so that it stays on the last letter."
   ]
  },
  {
   "cell_type": "code",
   "execution_count": 2,
   "metadata": {},
   "outputs": [],
   "source": [
    "def password_generator(password: str) -> Generator[str]:\n",
    "    password = list(password)\n",
    "    while True:\n",
    "        for i in range(len(password) - 1, 0, -1):\n",
    "            password[i] = chr((ord(password[i]) + 1 - 97) % 26 + 97)\n",
    "            if password[i] != 'a':\n",
    "                break\n",
    "        yield ''.join(password)"
   ]
  },
  {
   "cell_type": "markdown",
   "metadata": {},
   "source": [
    "Then we have a validator that continuously pulls new password variations from the generator and checks their validity according to the puzzle's rules. I used `windowed()` from more-itertools library, which splits an iterable into sequences of specified length."
   ]
  },
  {
   "cell_type": "code",
   "execution_count": 3,
   "metadata": {},
   "outputs": [
    {
     "name": "stdout",
     "output_type": "stream",
     "text": [
      "vzbxxyzz\n"
     ]
    }
   ],
   "source": [
    "def get_new_password(password: str) -> str:\n",
    "    straight = {''.join(i) for i in windowed(ascii_lowercase, 3)}\n",
    "    is_valid = False\n",
    "    pw_gen = password_generator(password)\n",
    "    while not is_valid:\n",
    "        password = next(pw_gen)\n",
    "        is_valid = (any(i in password for i in straight)\n",
    "                    and not re.search(r'[iol]', password)\n",
    "                    and len(re.findall(r'(.)\\1', password)) >= 2)\n",
    "    return password\n",
    "\n",
    "\n",
    "part1 = get_new_password(parsers.string(loader.get(2015, 11)))\n",
    "print(part1)"
   ]
  },
  {
   "cell_type": "code",
   "execution_count": 4,
   "metadata": {},
   "outputs": [
    {
     "name": "stdout",
     "output_type": "stream",
     "text": [
      "vzcaabcc\n"
     ]
    }
   ],
   "source": [
    "print(get_new_password(part1))"
   ]
  }
 ],
 "metadata": {
  "kernelspec": {
   "display_name": "advent-of-code",
   "language": "python",
   "name": "python3"
  },
  "language_info": {
   "codemirror_mode": {
    "name": "ipython",
    "version": 3
   },
   "file_extension": ".py",
   "mimetype": "text/x-python",
   "name": "python",
   "nbconvert_exporter": "python",
   "pygments_lexer": "ipython3",
   "version": "3.11.5"
  }
 },
 "nbformat": 4,
 "nbformat_minor": 2
}

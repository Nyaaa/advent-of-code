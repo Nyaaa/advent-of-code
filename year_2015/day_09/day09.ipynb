{
 "cells": [
  {
   "cell_type": "markdown",
   "metadata": {},
   "source": [
    "# Day 9: All in a Single Night"
   ]
  },
  {
   "cell_type": "code",
   "execution_count": 1,
   "metadata": {},
   "outputs": [],
   "source": [
    "from itertools import permutations\n",
    "\n",
    "import networkx as nx\n",
    "from networkx.classes.function import path_weight\n",
    "\n",
    "from tools import loader, parsers\n",
    "\n",
    "DATA = parsers.lines(loader.get(2015, 9))"
   ]
  },
  {
   "cell_type": "markdown",
   "metadata": {},
   "source": [
    "This puzzle is essentially a travelling salesman problem, except we don't return to the starting point. NetworkX library has `networkx.algorithms.approximation.traveling_salesman_problem` that sounds just right, but for some reason I couldn't get it to give me the shortest route, even though it should understand weights, so I ended up just bruteforcing it. The search space is only 40k permutations, so it's fine. We don't really need networkx here, but I was too lazy to refactor. "
   ]
  },
  {
   "cell_type": "code",
   "execution_count": 2,
   "metadata": {},
   "outputs": [
    {
     "name": "stdout",
     "output_type": "stream",
     "text": [
      "207\n",
      "804\n"
     ]
    }
   ],
   "source": [
    "graph = nx.Graph()\n",
    "for i in DATA:\n",
    "    vals = i.split()\n",
    "    graph.add_edge(vals[0], vals[2], weight=int(vals[4]))\n",
    "lengths = {path_weight(graph, path, weight='weight')\n",
    "            for path in permutations(graph.nodes, graph.number_of_nodes())}\n",
    "\n",
    "print(min(lengths))\n",
    "print(max(lengths))"
   ]
  }
 ],
 "metadata": {
  "kernelspec": {
   "display_name": "advent-of-code",
   "language": "python",
   "name": "python3"
  },
  "language_info": {
   "codemirror_mode": {
    "name": "ipython",
    "version": 3
   },
   "file_extension": ".py",
   "mimetype": "text/x-python",
   "name": "python",
   "nbconvert_exporter": "python",
   "pygments_lexer": "ipython3",
   "version": "3.11.5"
  }
 },
 "nbformat": 4,
 "nbformat_minor": 2
}

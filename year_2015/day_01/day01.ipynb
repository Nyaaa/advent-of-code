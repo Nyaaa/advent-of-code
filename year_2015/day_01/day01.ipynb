{
 "cells": [
  {
   "cell_type": "markdown",
   "metadata": {},
   "source": [
    "# Day 1: Not Quite Lisp"
   ]
  },
  {
   "cell_type": "markdown",
   "metadata": {},
   "source": [
    "The most obvious solution is to simply count all brackets:"
   ]
  },
  {
   "cell_type": "code",
   "execution_count": 1,
   "metadata": {},
   "outputs": [
    {
     "name": "stdout",
     "output_type": "stream",
     "text": [
      "232\n"
     ]
    }
   ],
   "source": [
    "from itertools import accumulate, dropwhile\n",
    "\n",
    "from tools import loader, parsers\n",
    "\n",
    "DATA = parsers.string(loader.get(2015, 1))\n",
    "\n",
    "print(DATA.count('(') - DATA.count(')'))"
   ]
  },
  {
   "cell_type": "markdown",
   "metadata": {},
   "source": [
    "For part 2, however, we need to stop counting once we reach a negative value. A simple way I can think of is to replace brackets with 1 and -1, so that we can iterate over the list, adding elements together until our predicate returns false. Solution to part 1 then becomes the sum of all elements."
   ]
  },
  {
   "cell_type": "code",
   "execution_count": 2,
   "metadata": {},
   "outputs": [
    {
     "name": "stdout",
     "output_type": "stream",
     "text": [
      "232\n"
     ]
    }
   ],
   "source": [
    "data = [1 if val == '(' else -1 for val in DATA]\n",
    "\n",
    "print(sum(data))"
   ]
  },
  {
   "cell_type": "code",
   "execution_count": 3,
   "metadata": {},
   "outputs": [
    {
     "name": "stdout",
     "output_type": "stream",
     "text": [
      "1783\n"
     ]
    }
   ],
   "source": [
    "print(next(dropwhile(lambda x: x[1] >= 0, enumerate(accumulate(data), start=1)))[0])"
   ]
  }
 ],
 "metadata": {
  "kernelspec": {
   "display_name": "advent-of-code",
   "language": "python",
   "name": "python3"
  },
  "language_info": {
   "codemirror_mode": {
    "name": "ipython",
    "version": 3
   },
   "file_extension": ".py",
   "mimetype": "text/x-python",
   "name": "python",
   "nbconvert_exporter": "python",
   "pygments_lexer": "ipython3",
   "version": "3.11.5"
  }
 },
 "nbformat": 4,
 "nbformat_minor": 2
}

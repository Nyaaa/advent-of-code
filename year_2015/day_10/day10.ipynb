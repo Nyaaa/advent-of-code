{
 "cells": [
  {
   "cell_type": "markdown",
   "metadata": {},
   "source": [
    "# Day 10: Elves Look, Elves Say"
   ]
  },
  {
   "cell_type": "code",
   "execution_count": 1,
   "metadata": {},
   "outputs": [],
   "source": [
    "import re\n",
    "from itertools import chain, groupby\n",
    "\n",
    "import pandas as pd\n",
    "import seaborn as sns\n",
    "\n",
    "from tools import loader, parsers\n",
    "\n",
    "DATA = parsers.string(loader.get(2015, 10))"
   ]
  },
  {
   "cell_type": "markdown",
   "metadata": {},
   "source": [
    "The first thing that comes to mind is regexp, naturally. It's pretty easy to find repetitions with `(\\d)\\1*`."
   ]
  },
  {
   "cell_type": "code",
   "execution_count": 2,
   "metadata": {},
   "outputs": [
    {
     "name": "stdout",
     "output_type": "stream",
     "text": [
      "492982\n",
      "6989950\n"
     ]
    }
   ],
   "source": [
    "def look_and_say(string: str = DATA) -> dict[int, int]:\n",
    "    stats = {0: len(string)}\n",
    "    for i in range(50):\n",
    "        new_string = ''\n",
    "        for group in re.finditer(r'(\\d)\\1*', string):\n",
    "            new_string += f'{len(group[0])}{group[0][0]}'\n",
    "        string = new_string\n",
    "        stats[i] = len(new_string)\n",
    "    return stats\n",
    "\n",
    "\n",
    "stats = look_and_say()\n",
    "print(stats[39])\n",
    "print(stats[49])"
   ]
  },
  {
   "cell_type": "markdown",
   "metadata": {},
   "source": [
    "It's quite slow, though, especially in part 2, as the string explodes in length now that we are doing 50 iterations instead of 40. We are also constructing a new string at every step, which is inefficient. "
   ]
  },
  {
   "cell_type": "code",
   "execution_count": 3,
   "metadata": {},
   "outputs": [
    {
     "name": "stdout",
     "output_type": "stream",
     "text": [
      "Axes(0.125,0.11;0.775x0.77)\n"
     ]
    },
    {
     "data": {
      "image/png": "[encoded data removed]",
      "text/plain": [
       "<Figure size 640x480 with 1 Axes>"
      ]
     },
     "metadata": {},
     "output_type": "display_data"
    }
   ],
   "source": [
    "lengths = pd.DataFrame(stats.items(), columns=['Iteration', 'String length'])\n",
    "ax = sns.lineplot(data=lengths, x='Iteration', y='String length')\n",
    "print(ax)"
   ]
  },
  {
   "cell_type": "markdown",
   "metadata": {},
   "source": [
    "Our input contains only digits, so it would be better if we could just do away with strings altogether. We can do so with itertools' groupby(). Still not stellar, but it goes from ~26 seconds down to ~10 on my hardware. Not great, not terrible."
   ]
  },
  {
   "cell_type": "code",
   "execution_count": 4,
   "metadata": {},
   "outputs": [
    {
     "name": "stdout",
     "output_type": "stream",
     "text": [
      "492982\n",
      "6989950\n"
     ]
    }
   ],
   "source": [
    "def look_and_say(sequence: str, cycles: int) -> int:\n",
    "    sequence = list(map(int, sequence))\n",
    "    for _ in range(cycles):\n",
    "        sequence = list(chain.from_iterable((len(list(j)), i) for i, j in groupby(sequence)))\n",
    "    return len(sequence)\n",
    "\n",
    "\n",
    "print(look_and_say(DATA, 40))\n",
    "print(look_and_say(DATA, 50))"
   ]
  }
 ],
 "metadata": {
  "kernelspec": {
   "display_name": "advent-of-code",
   "language": "python",
   "name": "python3"
  },
  "language_info": {
   "codemirror_mode": {
    "name": "ipython",
    "version": 3
   },
   "file_extension": ".py",
   "mimetype": "text/x-python",
   "name": "python",
   "nbconvert_exporter": "python",
   "pygments_lexer": "ipython3",
   "version": "3.11.5"
  }
 },
 "nbformat": 4,
 "nbformat_minor": 2
}

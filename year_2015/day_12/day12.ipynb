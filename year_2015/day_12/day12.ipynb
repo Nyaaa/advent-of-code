{
 "cells": [
  {
   "cell_type": "markdown",
   "metadata": {},
   "source": [
    "# Day 12: JSAbacusFramework.io"
   ]
  },
  {
   "cell_type": "code",
   "execution_count": 1,
   "metadata": {},
   "outputs": [],
   "source": [
    "import json\n",
    "import re\n",
    "\n",
    "from tools import loader, parsers\n",
    "\n",
    "DATA = parsers.string(loader.get(2015, 12))"
   ]
  },
  {
   "cell_type": "markdown",
   "metadata": {},
   "source": [
    "The most obvious way to solve part 1 is to treat JSON as a string and use regex to extract all digits:"
   ]
  },
  {
   "cell_type": "code",
   "execution_count": 2,
   "metadata": {},
   "outputs": [
    {
     "name": "stdout",
     "output_type": "stream",
     "text": [
      "111754\n"
     ]
    }
   ],
   "source": [
    "print(sum(map(int, re.findall(r'-?\\d+', DATA))))"
   ]
  },
  {
   "cell_type": "markdown",
   "metadata": {},
   "source": [
    "For part 2, however, we need to parse input. It is valid JSON, so we can just use json.loads and go over the contents. Then we need to get the data type of each element to handle it appropriately. We can use a bunch of isinstance() checks, but when we have multiple checks, it makes more sense to use match case. It's quite powerful <i>and</i> readable!"
   ]
  },
  {
   "cell_type": "code",
   "execution_count": 3,
   "metadata": {},
   "outputs": [
    {
     "name": "stdout",
     "output_type": "stream",
     "text": [
      "111754\n",
      "65402\n"
     ]
    }
   ],
   "source": [
    "def accounting(datum: dict | list | int | str, part2: bool) -> int:\n",
    "    match datum:\n",
    "        case dict() if not part2 or ('red' not in datum.values() and part2):\n",
    "            return sum(accounting(i, part2) for i in datum.values())\n",
    "        case list():\n",
    "            return sum(accounting(i, part2) for i in datum)\n",
    "        case int():\n",
    "            return datum\n",
    "        case _:\n",
    "            return 0\n",
    "\n",
    "\n",
    "print(accounting(json.loads(DATA), part2=False))\n",
    "print(accounting(json.loads(DATA), part2=True))"
   ]
  }
 ],
 "metadata": {
  "kernelspec": {
   "display_name": "advent-of-code",
   "language": "python",
   "name": "python3"
  },
  "language_info": {
   "codemirror_mode": {
    "name": "ipython",
    "version": 3
   },
   "file_extension": ".py",
   "mimetype": "text/x-python",
   "name": "python",
   "nbconvert_exporter": "python",
   "pygments_lexer": "ipython3",
   "version": "3.11.5"
  }
 },
 "nbformat": 4,
 "nbformat_minor": 2
}
